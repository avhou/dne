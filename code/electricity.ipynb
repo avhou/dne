{
 "cells": [
  {
   "cell_type": "code",
   "execution_count": 1,
   "metadata": {
    "collapsed": false
   },
   "outputs": [
    {
     "name": "stderr",
     "output_type": "stream",
     "text": [
      "'nvidia-smi' is not recognized as an internal or external command,\n",
      "operable program or batch file.\n"
     ]
    },
    {
     "ename": "ModuleNotFoundError",
     "evalue": "No module named 'google'",
     "output_type": "error",
     "traceback": [
      "\u001b[1;31m---------------------------------------------------------------------------\u001b[0m",
      "\u001b[1;31mModuleNotFoundError\u001b[0m                       Traceback (most recent call last)",
      "Cell \u001b[1;32mIn[1], line 7\u001b[0m\n\u001b[0;32m      4\u001b[0m \u001b[38;5;66;03m# check if gpu is enabled\u001b[39;00m\n\u001b[0;32m      5\u001b[0m get_ipython()\u001b[38;5;241m.\u001b[39msystem(\u001b[38;5;124m'\u001b[39m\u001b[38;5;124mnvidia-smi\u001b[39m\u001b[38;5;124m'\u001b[39m)\n\u001b[1;32m----> 7\u001b[0m \u001b[38;5;28;01mfrom\u001b[39;00m \u001b[38;5;21;01mgoogle\u001b[39;00m\u001b[38;5;21;01m.\u001b[39;00m\u001b[38;5;21;01mcolab\u001b[39;00m \u001b[38;5;28;01mimport\u001b[39;00m drive\n\u001b[0;32m      8\u001b[0m drive\u001b[38;5;241m.\u001b[39mmount(\u001b[38;5;124m'\u001b[39m\u001b[38;5;124m/content/gdrive\u001b[39m\u001b[38;5;124m'\u001b[39m)\n\u001b[0;32m      9\u001b[0m get_ipython()\u001b[38;5;241m.\u001b[39msystem(\u001b[38;5;124m'\u001b[39m\u001b[38;5;124mln -s /content/gdrive/My\u001b[39m\u001b[38;5;130;01m\\\\\u001b[39;00m\u001b[38;5;124m Drive/dne /dne\u001b[39m\u001b[38;5;124m'\u001b[39m)\n",
      "\u001b[1;31mModuleNotFoundError\u001b[0m: No module named 'google'"
     ]
    }
   ],
   "source": [
    "# only execute this cell when running in colab environment\n",
    "COLAB = True\n",
    "\n",
    "# check if gpu is enabled\n",
    "!nvidia-smi\n",
    "\n",
    "from google.colab import drive\n",
    "drive.mount('/content/gdrive')\n",
    "!ln -s /content/gdrive/My\\ Drive/dne /dne\n",
    "!ls -ahl /dne\n",
    "!rm -rf /dne/checkout\n",
    "!git clone https://github.com/avhou/dne.git /dne/checkout\n",
    "!ls -ahl /dne/checkout/code\n",
    "import sys\n",
    "sys.path.append('/dne/checkout/code')"
   ]
  },
  {
   "cell_type": "code",
   "execution_count": 1,
   "metadata": {
    "ExecuteTime": {
     "end_time": "2024-04-06T11:59:21.721619Z",
     "start_time": "2024-04-06T11:59:20.453225Z"
    }
   },
   "outputs": [],
   "source": [
    "import pandas as pd\n",
    "from sklearn.preprocessing import StandardScaler\n",
    "from torch.utils.data import Dataset, DataLoader,TensorDataset\n",
    "import building_blocks\n",
    "from building_blocks import *"
   ],
   "metadata": {
    "ExecuteTime": {
     "end_time": "2024-04-07T08:24:01.822703Z",
     "start_time": "2024-04-07T08:24:01.810342Z"
    }
   },
   "execution_count": 61
  },
  {
   "cell_type": "code",
   "execution_count": 2,
   "metadata": {
    "ExecuteTime": {
     "end_time": "2024-04-06T11:59:22.781558Z",
     "start_time": "2024-04-06T11:59:22.538084Z"
    }
   },
   "outputs": [
    {
     "name": "stdout",
     "output_type": "stream",
     "text": [
      "cpu\n"
     ]
    }
   ],
   "source": [
    "device = \"cuda\" if torch.cuda.is_available() else \"cpu\"\n",
    "print(device)\n",
    "data = pd.read_csv('https://raw.githubusercontent.com/avhou/dne/main/code/data/electricity.csv')\n",
    "data.drop(\"Meter ID\", axis=1, inplace=True)\n",
    "# keep only a small subset\n",
    "data = data.iloc[:64*5]\n",
    "TARGET_COL = 'total daily KW'"
   ],
   "metadata": {
    "ExecuteTime": {
     "end_time": "2024-04-07T08:24:02.778387Z",
     "start_time": "2024-04-07T08:24:02.538572Z"
    }
   },
   "execution_count": 62
  },
  {
   "cell_type": "code",
   "execution_count": 63,
   "metadata": {
    "ExecuteTime": {
     "end_time": "2024-04-07T08:24:03.400935Z",
     "start_time": "2024-04-07T08:24:03.397013Z"
    }
   },
   "outputs": [],
   "source": [
    "SEQUENCE_SIZE = 30\n",
    "BATCH_SIZE = 64\n",
    "train = data.iloc[:int(data.shape[0]*0.7)][TARGET_COL].to_numpy().reshape(-1, 1)\n",
    "val = data.iloc[int(data.shape[0]*0.7):int(data.shape[0]*0.8)][TARGET_COL].to_numpy().reshape(-1, 1)\n",
    "test =  data.iloc[int(data.shape[0]*0.8):][TARGET_COL].to_numpy().reshape(-1, 1)\n",
    "\n",
    "scaler = StandardScaler()\n",
    "scaled_train = scaler.fit_transform(train).flatten().tolist()\n",
    "scaled_val = scaler.fit_transform(val).flatten().tolist()\n",
    "scaled_test = scaler.transform(test).flatten().tolist()\n",
    "\n",
    "x_train, y_train = to_sequences(SEQUENCE_SIZE, scaled_train)\n",
    "x_val, y_val = to_sequences(SEQUENCE_SIZE, scaled_val)\n",
    "x_test, y_test = to_sequences(SEQUENCE_SIZE, scaled_test)\n",
    "\n",
    "train_dataset = TensorDataset(x_train, y_train)\n",
    "train_loader = DataLoader(train_dataset, batch_size=BATCH_SIZE, shuffle=True)\n",
    "\n",
    "val_dataset = TensorDataset(x_val, y_val)\n",
    "val_loader = DataLoader(val_dataset, batch_size=BATCH_SIZE, shuffle=True)\n",
    "\n",
    "test_dataset = TensorDataset(x_test, y_test)\n",
    "test_loader = DataLoader(test_dataset, batch_size=BATCH_SIZE, shuffle=False)"
   ]
  },
  {
   "cell_type": "code",
   "execution_count": 64,
   "metadata": {
    "ExecuteTime": {
     "end_time": "2024-04-07T08:26:02.739873Z",
     "start_time": "2024-04-07T08:24:06.483234Z"
    }
   },
   "outputs": [
    {
     "name": "stderr",
     "output_type": "stream",
     "text": [
      "/Users/alexander/ou/IM1102 - Deep Neural Engineering/github/code/venv/lib/python3.12/site-packages/torch/optim/lr_scheduler.py:28: UserWarning: The verbose parameter is deprecated. Please use get_last_lr() to access the learning rate.\n",
      "  warnings.warn(\"The verbose parameter is deprecated. Please use get_last_lr() \"\n"
     ]
    },
    {
     "name": "stdout",
     "output_type": "stream",
     "text": [
      "checking paths, base path is ./\n",
      "training and validating the model\n",
      "New best training score at epoch 1\n",
      "New best validation score at epoch 1\n",
      "increasing early stop count\n",
      "Epoch 1/100, Training Loss: 1.3144, Validation Loss: 0.1248\n",
      "New best validation score at epoch 2\n",
      "increasing early stop count\n",
      "Epoch 2/100, Training Loss: 1.4413, Validation Loss: 0.0944\n",
      "increasing early stop count\n",
      "Epoch 3/100, Training Loss: 1.5608, Validation Loss: 0.0944\n",
      "increasing early stop count\n",
      "Epoch 4/100, Training Loss: 1.9791, Validation Loss: 0.1248\n",
      "increasing early stop count\n",
      "Early stopping!\n",
      "Best val model saved to file ./weights/electricity_model_best_val.pth from epoch 2\n",
      "testing the model\n",
      "saving all losses to disk\n",
      "execution done\n"
     ]
    }
   ],
   "source": [
    "INPUT_DIM= SEQUENCE_SIZE\n",
    "EMBED_SIZE= 512\n",
    "NUM_LAYERS= 4\n",
    "HEADS= 8\n",
    "FORWARD_EXPANSION= 512\n",
    "DROPOUT= 0.2\n",
    "FORECAST_SIZE= 1\n",
    "\n",
    "# https://stackoverflow.com/questions/65996797/how-to-refresh-a-python-import-in-a-jupyter-notebook-cell\n",
    "from importlib import reload\n",
    "reload(building_blocks)\n",
    "from building_blocks import *\n",
    "\n",
    "model_params = TimeSeriesTransformerParams(\n",
    "    input_dim=INPUT_DIM,\n",
    "    embed_size=EMBED_SIZE,\n",
    "    num_layers=NUM_LAYERS,\n",
    "    heads=HEADS,\n",
    "    device=device,\n",
    "    forward_expansion=FORWARD_EXPANSION,\n",
    "    dropout=DROPOUT,\n",
    "    forecast_size=FORECAST_SIZE\n",
    ")\n",
    "scenario_params = ScenarioParams(\n",
    "    name=\"electricity\",\n",
    "    device=device,\n",
    "    epochs=100,\n",
    "    dataloader_train=train_loader,\n",
    "    dataloader_validation=val_loader,\n",
    "    dataloader_test=test_loader,\n",
    "    base_path=\"/dne\" if 'COLAB' in locals() and COLAB else \"./\",\n",
    "    early_stop_count=5\n",
    ")\n",
    "model = TimeSeriesTransformer.from_params(model_params).to(device)\n",
    "scenario = Scenario(scenario_params)\n",
    "result = scenario.execute(model)\n",
    "print(f\"execution done\")"
   ]
  },
  {
   "cell_type": "code",
   "outputs": [
    {
     "data": {
      "text/plain": "Text(0.5, 1.0, 'Test loss')"
     },
     "execution_count": 65,
     "metadata": {},
     "output_type": "execute_result"
    },
    {
     "data": {
      "text/plain": "<Figure size 640x480 with 1 Axes>",
      "image/png": "[encoded data removed]"
     },
     "metadata": {},
     "output_type": "display_data"
    },
    {
     "data": {
      "text/plain": "<Figure size 640x480 with 1 Axes>",
      "image/png": "[encoded data removed]"
     },
     "metadata": {},
     "output_type": "display_data"
    },
    {
     "data": {
      "text/plain": "<Figure size 640x480 with 1 Axes>",
      "image/png": "[encoded data removed]"
     },
     "metadata": {},
     "output_type": "display_data"
    }
   ],
   "source": [
    "import seaborn as sns\n",
    "import matplotlib.pyplot as plt\n",
    "\n",
    "data = pd.read_pickle('./weights/electricity_train_val_losses.pkl')\n",
    "data['epoch'] = pd.Series([int(x) + 1 for x in range(len(data))])\n",
    "fig, ax = plt.subplots()\n",
    "g = sns.lineplot(ax = ax, data=data, x='epoch', y='validation')\n",
    "g.set_title(f\"Validation loss\")\n",
    "g.set_ylabel(\"MSE\")\n",
    "g.set_ylim([0, np.max(data['validation']) + 1])\n",
    "fig, ax = plt.subplots()\n",
    "g = sns.lineplot(ax = ax, data=data, x='epoch', y='training')\n",
    "g.set_title(f\"Training loss\")\n",
    "g.set_ylabel(\"MSE\")\n",
    "g.set_ylim([0, np.max(data['training']) + 1])\n",
    "\n",
    "data = pd.read_pickle('./weights/electricity_test_losses.pkl')\n",
    "data['batch'] = pd.Series([int(x) + 1 for x in range(len(data))])\n",
    "fig, ax = plt.subplots()\n",
    "g = sns.lineplot(ax = ax, data=data, x='batch', y='test')\n",
    "g.set_title(f\"Test loss\")"
   ],
   "metadata": {
    "collapsed": false,
    "ExecuteTime": {
     "end_time": "2024-04-07T08:26:10.081878Z",
     "start_time": "2024-04-07T08:26:09.872812Z"
    }
   },
   "execution_count": 65
  }
 ],
 "metadata": {
  "kernelspec": {
   "display_name": "dne_project",
   "language": "python",
   "name": "python3"
  },
  "language_info": {
   "codemirror_mode": {
    "name": "ipython",
    "version": 3
   },
   "file_extension": ".py",
   "mimetype": "text/x-python",
   "name": "python",
   "nbconvert_exporter": "python",
   "pygments_lexer": "ipython3",
   "version": "3.10.11"
  }
 },
 "nbformat": 4,
 "nbformat_minor": 2
}
