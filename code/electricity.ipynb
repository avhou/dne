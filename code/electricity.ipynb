{
 "cells": [
  {
   "cell_type": "code",
   "outputs": [],
   "source": [
    "# only execute this cell when running in colab environment\n",
    "COLAB = True\n",
    "\n",
    "# check if gpu is enabled\n",
    "!nvidia-smi\n",
    "\n",
    "from google.colab import drive\n",
    "drive.mount('/content/gdrive')\n",
    "!ln -s /content/gdrive/My\\ Drive/dne /dne\n",
    "!ls -ahl /dne\n",
    "!rm -rf /dne/checkout\n",
    "!git clone https://github.com/avhou/dne.git /dne/checkout\n",
    "!ls -ahl /dne/checkout/code\n",
    "import sys\n",
    "sys.path.append('/dne/checkout/code')"
   ],
   "metadata": {
    "collapsed": false
   }
  },
  {
   "cell_type": "code",
   "outputs": [],
   "source": [
    "import pandas as pd\n",
    "from sklearn.preprocessing import StandardScaler\n",
    "from torch.utils.data import Dataset, DataLoader,TensorDataset\n",
    "import building_blocks\n",
    "from building_blocks import *"
   ],
   "metadata": {
    "ExecuteTime": {
     "end_time": "2024-04-06T17:45:05.195626Z",
     "start_time": "2024-04-06T17:45:05.190645Z"
    }
   },
   "execution_count": 5
  },
  {
   "cell_type": "code",
   "outputs": [
    {
     "name": "stdout",
     "output_type": "stream",
     "text": [
      "cpu\n"
     ]
    }
   ],
   "source": [
    "device = \"cuda\" if torch.cuda.is_available() else \"cpu\"\n",
    "print(device)\n",
    "data = pd.read_csv('https://raw.githubusercontent.com/avhou/dne/main/code/data/electricity.csv')\n",
    "data.drop(\"Meter ID\", axis=1, inplace=True)\n",
    "# keep only a small subset\n",
    "data = data.iloc[:64*5]\n",
    "TARGET_COL = 'total daily KW'"
   ],
   "metadata": {
    "ExecuteTime": {
     "end_time": "2024-04-06T17:45:13.066769Z",
     "start_time": "2024-04-06T17:45:12.793566Z"
    }
   },
   "execution_count": 6
  },
  {
   "cell_type": "code",
   "execution_count": 16,
   "metadata": {
    "ExecuteTime": {
     "end_time": "2024-04-06T17:56:47.269509Z",
     "start_time": "2024-04-06T17:56:47.264363Z"
    }
   },
   "outputs": [],
   "source": [
    "SEQUENCE_SIZE = 30\n",
    "BATCH_SIZE = 64\n",
    "train = data.iloc[:int(data.shape[0]*0.7)][TARGET_COL].to_numpy().reshape(-1, 1)\n",
    "val = data.iloc[int(data.shape[0]*0.7):int(data.shape[0]*0.8)][TARGET_COL].to_numpy().reshape(-1, 1)\n",
    "test =  data.iloc[int(data.shape[0]*0.8):][TARGET_COL].to_numpy().reshape(-1, 1)\n",
    "\n",
    "scaler = StandardScaler()\n",
    "scaled_train = scaler.fit_transform(train).flatten().tolist()\n",
    "scaled_val = scaler.fit_transform(val).flatten().tolist()\n",
    "scaled_test = scaler.transform(test).flatten().tolist()\n",
    "\n",
    "x_train, y_train = to_sequences(SEQUENCE_SIZE, scaled_train)\n",
    "x_val, y_val = to_sequences(SEQUENCE_SIZE, scaled_val)\n",
    "x_test, y_test = to_sequences(SEQUENCE_SIZE, scaled_test)\n",
    "\n",
    "train_dataset = TensorDataset(x_train, y_train)\n",
    "train_loader = DataLoader(train_dataset, batch_size=BATCH_SIZE, shuffle=True)\n",
    "\n",
    "val_dataset = TensorDataset(x_val, y_val)\n",
    "val_loader = DataLoader(val_dataset, batch_size=BATCH_SIZE, shuffle=True)\n",
    "\n",
    "test_dataset = TensorDataset(x_test, y_test)\n",
    "test_loader = DataLoader(test_dataset, batch_size=BATCH_SIZE, shuffle=False)"
   ]
  },
  {
   "cell_type": "code",
   "execution_count": 17,
   "metadata": {
    "ExecuteTime": {
     "end_time": "2024-04-06T17:57:30.349207Z",
     "start_time": "2024-04-06T17:56:48.168921Z"
    }
   },
   "outputs": [
    {
     "name": "stderr",
     "output_type": "stream",
     "text": [
      "/Users/alexander/ou/IM1102 - Deep Neural Engineering/github/code/venv/lib/python3.12/site-packages/torch/optim/lr_scheduler.py:28: UserWarning: The verbose parameter is deprecated. Please use get_last_lr() to access the learning rate.\n",
      "  warnings.warn(\"The verbose parameter is deprecated. Please use get_last_lr() \"\n"
     ]
    },
    {
     "name": "stdout",
     "output_type": "stream",
     "text": [
      "checking paths, base path is ./\n",
      "New best training score at epoch 1\n",
      "New best validation score at epoch 1\n",
      "Epoch 1/100, Training Loss: 1.3329, Validation Loss: 0.5678\n",
      "New best training score at epoch 2\n",
      "New best validation score at epoch 2\n",
      "Epoch 2/100, Training Loss: 1.2707, Validation Loss: 0.5585\n",
      "New best validation score at epoch 3\n",
      "Epoch 3/100, Training Loss: 1.4054, Validation Loss: 0.5492\n",
      "Epoch 4/100, Training Loss: 1.4493, Validation Loss: 0.5691\n",
      "Early stopping!\n",
      "Best val model saved to file ./weights/electricity_model_best_val.pth from epoch 3\n",
      "execution done\n"
     ]
    }
   ],
   "source": [
    "INPUT_DIM= SEQUENCE_SIZE\n",
    "EMBED_SIZE= 512\n",
    "NUM_LAYERS= 4\n",
    "HEADS= 8\n",
    "FORWARD_EXPANSION= 512\n",
    "DROPOUT= 0.2\n",
    "FORECAST_SIZE= 1\n",
    "\n",
    "# https://stackoverflow.com/questions/65996797/how-to-refresh-a-python-import-in-a-jupyter-notebook-cell\n",
    "from importlib import reload\n",
    "reload(building_blocks)\n",
    "from building_blocks import *\n",
    "\n",
    "model_params = TimeSeriesTransformerParams(\n",
    "    input_dim=INPUT_DIM,\n",
    "    embed_size=EMBED_SIZE,\n",
    "    num_layers=NUM_LAYERS,\n",
    "    heads=HEADS,\n",
    "    device=device,\n",
    "    forward_expansion=FORWARD_EXPANSION,\n",
    "    dropout=DROPOUT,\n",
    "    forecast_size=FORECAST_SIZE\n",
    ")\n",
    "scenario_params = ScenarioParams(\n",
    "    name=\"electricity\",\n",
    "    device=device,\n",
    "    epochs=100,\n",
    "    dataloader_train=train_loader,\n",
    "    dataloader_validation=val_loader,\n",
    "    dataloader_test=test_loader,\n",
    "    base_path=\"/dne\" if 'COLAB' in locals() and COLAB else \"./\"\n",
    ")\n",
    "model = TimeSeriesTransformer.from_params(model_params).to(device)\n",
    "scenario = Scenario(scenario_params)\n",
    "result = scenario.execute(model)\n",
    "print(f\"execution done\")"
   ]
  },
  {
   "cell_type": "code",
   "outputs": [],
   "source": [],
   "metadata": {
    "collapsed": false
   }
  }
 ],
 "metadata": {
  "kernelspec": {
   "display_name": "dne_project",
   "language": "python",
   "name": "python3"
  },
  "language_info": {
   "codemirror_mode": {
    "name": "ipython",
    "version": 3
   },
   "file_extension": ".py",
   "mimetype": "text/x-python",
   "name": "python",
   "nbconvert_exporter": "python",
   "pygments_lexer": "ipython3",
   "version": "3.9.18"
  }
 },
 "nbformat": 4,
 "nbformat_minor": 2
}
