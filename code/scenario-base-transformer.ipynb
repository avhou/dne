{
 "cells": [
  {
   "cell_type": "code",
   "execution_count": null,
   "metadata": {
    "ExecuteTime": {
     "end_time": "2024-04-14T01:48:57.367455Z",
     "start_time": "2024-04-12T21:06:31.071836Z"
    }
   },
   "outputs": [],
   "source": [
    "from building_blocks import *\n",
    "import torch\n",
    "\n",
    "device = \"cuda\" if torch.cuda.is_available() else \"cpu\"\n",
    "frequencies = [\"4h\"]\n",
    "layers = [2]\n",
    "heads = [4]\n",
    "forward_expansions = [256]\n",
    "for model_params, scenario_params in generate_scenarios(\n",
    "    \"base-transformer\", device, \"FourierEncoder\", frequencies, layers, heads, forward_expansions\n",
    "):\n",
    "    print(f\"will execute scenario {scenario_params.name}\")\n",
    "    model = TimeSeriesTransformer.from_params(model_params).to(device)\n",
    "    scenario = Scenario(scenario_params)\n",
    "    scenario.execute(model)\n",
    "    torch.save(model, os.path.join(args.output_dir, f\"{scenario_params.name}-model.pt\"))\n",
    "print(f\"execution done\")"
   ]
  },
  {
   "cell_type": "code",
   "execution_count": null,
   "metadata": {
    "collapsed": false
   },
   "outputs": [],
   "source": []
  }
 ],
 "metadata": {
  "kernelspec": {
   "display_name": "venv",
   "language": "python",
   "name": "python3"
  },
  "language_info": {
   "codemirror_mode": {
    "name": "ipython",
    "version": 3
   },
   "file_extension": ".py",
   "mimetype": "text/x-python",
   "name": "python",
   "nbconvert_exporter": "python",
   "pygments_lexer": "ipython3",
   "version": "3.10.11"
  }
 },
 "nbformat": 4,
 "nbformat_minor": 2
}
