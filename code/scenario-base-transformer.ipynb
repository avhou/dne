{
 "cells": [
  {
   "cell_type": "code",
   "execution_count": 3,
   "metadata": {
    "ExecuteTime": {
     "end_time": "2024-04-12T17:53:45.230911Z",
     "start_time": "2024-04-12T17:53:44.975754Z"
    }
   },
   "outputs": [
    {
     "name": "stdout",
     "output_type": "stream",
     "text": [
      "will execute scenario elia-base-transformer-freqD-layers2-heads4-fe256\n",
      "will execute scenario elia-base-transformer-freqD-layers2-heads4-fe512\n",
      "will execute scenario elia-base-transformer-freqD-layers2-heads6-fe256\n",
      "will execute scenario elia-base-transformer-freqD-layers2-heads6-fe512\n",
      "will execute scenario elia-base-transformer-freqD-layers2-heads8-fe256\n",
      "will execute scenario elia-base-transformer-freqD-layers2-heads8-fe512\n",
      "will execute scenario elia-base-transformer-freqD-layers4-heads4-fe256\n",
      "will execute scenario elia-base-transformer-freqD-layers4-heads4-fe512\n",
      "will execute scenario elia-base-transformer-freqD-layers4-heads6-fe256\n",
      "will execute scenario elia-base-transformer-freqD-layers4-heads6-fe512\n",
      "will execute scenario elia-base-transformer-freqD-layers4-heads8-fe256\n",
      "will execute scenario elia-base-transformer-freqD-layers4-heads8-fe512\n",
      "will execute scenario elia-base-transformer-freqD-layers6-heads4-fe256\n",
      "will execute scenario elia-base-transformer-freqD-layers6-heads4-fe512\n",
      "will execute scenario elia-base-transformer-freqD-layers6-heads6-fe256\n",
      "will execute scenario elia-base-transformer-freqD-layers6-heads6-fe512\n",
      "will execute scenario elia-base-transformer-freqD-layers6-heads8-fe256\n",
      "will execute scenario elia-base-transformer-freqD-layers6-heads8-fe512\n"
     ]
    }
   ],
   "source": [
    "from building_blocks import *\n",
    "import torch\n",
    "\n",
    "device = \"cuda\" if torch.cuda.is_available() else \"cpu\"\n",
    "frequencies = [\"D\"]\n",
    "layers = [2, 4, 6]\n",
    "heads = [4, 6, 8]\n",
    "forward_expansions = [256, 512]\n",
    "for model_params, scenario_params in generate_scenarios(\"base-transformer\", device, frequencies, layers, heads, forward_expansions):\n",
    "    print(f\"will execute scenario {scenario_params.name}\")\n",
    "    model = TimeSeriesTransformer.from_params(model_params).to(device)\n",
    "    scenario = Scenario(scenario_params)\n",
    "    scenario.execute(model)\n",
    "print(f\"execution done\")\n"
   ]
  }
 ],
 "metadata": {
  "kernelspec": {
   "display_name": "venv",
   "language": "python",
   "name": "python3"
  },
  "language_info": {
   "codemirror_mode": {
    "name": "ipython",
    "version": 3
   },
   "file_extension": ".py",
   "mimetype": "text/x-python",
   "name": "python",
   "nbconvert_exporter": "python",
   "pygments_lexer": "ipython3",
   "version": "3.10.11"
  }
 },
 "nbformat": 4,
 "nbformat_minor": 2
}
