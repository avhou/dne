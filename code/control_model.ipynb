{
 "cells": [
  {
   "cell_type": "code",
   "execution_count": 1,
   "metadata": {},
   "outputs": [],
   "source": [
    "import numpy as np\n",
    "import pandas as pd\n",
    "\n",
    "import torch\n",
    "import torch.nn as nn\n",
    "import torch.optim as optim\n",
    "from torch.utils.data import DataLoader\n",
    "import building_blocks\n",
    "from building_blocks import *\n",
    "\n",
    "from torch.utils.data.sampler import SubsetRandomSampler\n",
    "from torch.optim.lr_scheduler import ReduceLROnPlateau\n",
    "\n",
    "from datasets import EliaSolarDataset\n",
    "from utils import ConfigSettings"
   ]
  },
  {
   "cell_type": "code",
   "execution_count": 2,
   "metadata": {},
   "outputs": [],
   "source": [
    "cf = ConfigSettings(config_path='config.ini')"
   ]
  },
  {
   "cell_type": "code",
   "execution_count": 3,
   "metadata": {},
   "outputs": [],
   "source": [
    "solar_dataset = EliaSolarDataset(\n",
    "        csv_path=cf.data.file_path,\n",
    "        datetime_column='DateTime',\n",
    "        target_column=\"Corrected Upscaled Measurement [MW]\",\n",
    "        context_length=cf.model.context_length,\n",
    "        frequency=cf.data.frequency,\n",
    "        train_test_split_year=cf.data.train_test_split_year,\n",
    "        train_val_split_year=cf.data.train_val_split_year,)"
   ]
  },
  {
   "cell_type": "code",
   "execution_count": 4,
   "metadata": {},
   "outputs": [
    {
     "name": "stdout",
     "output_type": "stream",
     "text": [
      "torch.Size([105769, 1, 120])\n"
     ]
    }
   ],
   "source": [
    "print(solar_dataset.data.shape)"
   ]
  },
  {
   "cell_type": "code",
   "execution_count": 5,
   "metadata": {},
   "outputs": [],
   "source": [
    "df = solar_dataset.get_dataframe(preprocessed=True)"
   ]
  },
  {
   "cell_type": "code",
   "execution_count": 6,
   "metadata": {},
   "outputs": [
    {
     "data": {
      "text/html": [
       "<div>\n",
       "<style scoped>\n",
       "    .dataframe tbody tr th:only-of-type {\n",
       "        vertical-align: middle;\n",
       "    }\n",
       "\n",
       "    .dataframe tbody tr th {\n",
       "        vertical-align: top;\n",
       "    }\n",
       "\n",
       "    .dataframe thead th {\n",
       "        text-align: right;\n",
       "    }\n",
       "</style>\n",
       "<table border=\"1\" class=\"dataframe\">\n",
       "  <thead>\n",
       "    <tr style=\"text-align: right;\">\n",
       "      <th></th>\n",
       "      <th>DateTime</th>\n",
       "      <th>Corrected Upscaled Measurement [MW]</th>\n",
       "    </tr>\n",
       "  </thead>\n",
       "  <tbody>\n",
       "    <tr>\n",
       "      <th>0</th>\n",
       "      <td>2012-02-01 00:00:00</td>\n",
       "      <td>0.0</td>\n",
       "    </tr>\n",
       "    <tr>\n",
       "      <th>1</th>\n",
       "      <td>2012-02-01 01:00:00</td>\n",
       "      <td>0.0</td>\n",
       "    </tr>\n",
       "    <tr>\n",
       "      <th>2</th>\n",
       "      <td>2012-02-01 02:00:00</td>\n",
       "      <td>0.0</td>\n",
       "    </tr>\n",
       "    <tr>\n",
       "      <th>3</th>\n",
       "      <td>2012-02-01 03:00:00</td>\n",
       "      <td>0.0</td>\n",
       "    </tr>\n",
       "    <tr>\n",
       "      <th>4</th>\n",
       "      <td>2012-02-01 04:00:00</td>\n",
       "      <td>0.0</td>\n",
       "    </tr>\n",
       "  </tbody>\n",
       "</table>\n",
       "</div>"
      ],
      "text/plain": [
       "             DateTime  Corrected Upscaled Measurement [MW]\n",
       "0 2012-02-01 00:00:00                                  0.0\n",
       "1 2012-02-01 01:00:00                                  0.0\n",
       "2 2012-02-01 02:00:00                                  0.0\n",
       "3 2012-02-01 03:00:00                                  0.0\n",
       "4 2012-02-01 04:00:00                                  0.0"
      ]
     },
     "execution_count": 6,
     "metadata": {},
     "output_type": "execute_result"
    }
   ],
   "source": [
    "df.head()"
   ]
  },
  {
   "cell_type": "code",
   "execution_count": 7,
   "metadata": {},
   "outputs": [
    {
     "name": "stdout",
     "output_type": "stream",
     "text": [
      "cpu\n"
     ]
    }
   ],
   "source": [
    "device = \"cuda\" if torch.cuda.is_available() else \"cpu\"\n",
    "print(device)"
   ]
  },
  {
   "cell_type": "code",
   "execution_count": 8,
   "metadata": {},
   "outputs": [
    {
     "data": {
      "text/plain": [
       "78287"
      ]
     },
     "execution_count": 8,
     "metadata": {},
     "output_type": "execute_result"
    }
   ],
   "source": [
    "solar_dataset.train_test_split_index"
   ]
  },
  {
   "cell_type": "code",
   "execution_count": 9,
   "metadata": {},
   "outputs": [],
   "source": [
    "\n",
    "indices = list(range(len(solar_dataset)))\n",
    "train_indices = indices[:solar_dataset.train_val_split_index]\n",
    "val_indices = indices[solar_dataset.train_val_split_index:solar_dataset.train_test_split_index]\n",
    "test_indices = indices[solar_dataset.train_test_split_index:]\n",
    "\n",
    "# Creating data samplers and loaders:\n",
    "train_sampler = SubsetRandomSampler(train_indices)\n",
    "valid_sampler = SubsetRandomSampler(val_indices)\n",
    "test_sampler = SubsetRandomSampler(test_indices)\n",
    "\n",
    "train_loader = torch.utils.data.DataLoader(solar_dataset, batch_size=cf.model.batch_size, \n",
    "                                        sampler=train_sampler)\n",
    "validation_loader = torch.utils.data.DataLoader(solar_dataset, batch_size=cf.model.batch_size,\n",
    "                                                sampler=valid_sampler)\n",
    "test_loader = torch.utils.data.DataLoader(solar_dataset, batch_size=cf.model.batch_size,sampler=test_sampler)"
   ]
  },
  {
   "cell_type": "code",
   "execution_count": 10,
   "metadata": {},
   "outputs": [
    {
     "name": "stderr",
     "output_type": "stream",
     "text": [
      "c:\\Repositories\\OpenUniversiteit\\dne\\code\\venv\\lib\\site-packages\\torch\\optim\\lr_scheduler.py:28: UserWarning: The verbose parameter is deprecated. Please use get_last_lr() to access the learning rate.\n",
      "  warnings.warn(\"The verbose parameter is deprecated. Please use get_last_lr() \"\n"
     ]
    },
    {
     "name": "stdout",
     "output_type": "stream",
     "text": [
      "checking paths, base path is ./\n",
      "training and validating the model\n",
      "<class 'torch.utils.data.dataloader.DataLoader'>\n",
      "<class 'dict'>\n",
      "batch: {'data': tensor([[[0.0000e+00, 0.0000e+00, 0.0000e+00,  ..., 2.3918e-03,\n",
      "          0.0000e+00, 0.0000e+00]],\n",
      "\n",
      "        [[3.8513e-02, 4.7760e-03, 1.7285e-06,  ..., 2.6904e-01,\n",
      "          1.8530e-01, 1.0474e-01]],\n",
      "\n",
      "        [[1.1420e-01, 4.6143e-02, 1.2184e-02,  ..., 2.7145e-02,\n",
      "          2.5299e-02, 2.2934e-02]],\n",
      "\n",
      "        ...,\n",
      "\n",
      "        [[9.5154e-02, 2.0496e-01, 3.1055e-01,  ..., 0.0000e+00,\n",
      "          1.8110e-03, 2.9419e-02]],\n",
      "\n",
      "        [[0.0000e+00, 0.0000e+00, 0.0000e+00,  ..., 4.8561e-03,\n",
      "          0.0000e+00, 0.0000e+00]],\n",
      "\n",
      "        [[0.0000e+00, 0.0000e+00, 0.0000e+00,  ..., 7.7026e-02,\n",
      "          3.1738e-02, 4.0703e-03]]], dtype=torch.float16), 'label': tensor([0.0000e+00, 3.8513e-02, 1.1420e-01, 0.0000e+00, 0.0000e+00, 4.4189e-02,\n",
      "        0.0000e+00, 3.1128e-02, 1.9177e-01, 3.4888e-01, 3.2300e-01, 0.0000e+00,\n",
      "        2.7442e-04, 4.1168e-02, 2.7954e-01, 1.6794e-03, 0.0000e+00, 2.3694e-01,\n",
      "        2.6270e-01, 0.0000e+00, 3.0298e-01, 0.0000e+00, 0.0000e+00, 0.0000e+00,\n",
      "        1.9189e-01, 2.2559e-01, 0.0000e+00, 0.0000e+00, 0.0000e+00, 0.0000e+00,\n",
      "        1.8387e-03, 0.0000e+00, 2.1826e-01, 0.0000e+00, 0.0000e+00, 0.0000e+00,\n",
      "        2.1777e-01, 0.0000e+00, 1.7920e-01, 2.5234e-03, 3.0994e-06, 0.0000e+00,\n",
      "        0.0000e+00, 0.0000e+00, 1.7773e-01, 0.0000e+00, 1.9299e-01, 0.0000e+00,\n",
      "        0.0000e+00, 0.0000e+00, 0.0000e+00, 0.0000e+00, 1.2560e-03, 1.9043e-01,\n",
      "        0.0000e+00, 0.0000e+00, 2.7490e-01, 0.0000e+00, 2.3071e-01, 0.0000e+00,\n",
      "        0.0000e+00, 9.5154e-02, 0.0000e+00, 0.0000e+00], dtype=torch.float16)}\n",
      "xbatch: data, ybatch: label\n"
     ]
    },
    {
     "ename": "AttributeError",
     "evalue": "'str' object has no attribute 'to'",
     "output_type": "error",
     "traceback": [
      "\u001b[1;31m---------------------------------------------------------------------------\u001b[0m",
      "\u001b[1;31mAttributeError\u001b[0m                            Traceback (most recent call last)",
      "Cell \u001b[1;32mIn[10], line 27\u001b[0m\n\u001b[0;32m     25\u001b[0m model \u001b[38;5;241m=\u001b[39m TimeSeriesTransformer\u001b[38;5;241m.\u001b[39mfrom_params(model_params)\u001b[38;5;241m.\u001b[39mto(device)\n\u001b[0;32m     26\u001b[0m scenario \u001b[38;5;241m=\u001b[39m Scenario(scenario_params)\n\u001b[1;32m---> 27\u001b[0m result \u001b[38;5;241m=\u001b[39m \u001b[43mscenario\u001b[49m\u001b[38;5;241;43m.\u001b[39;49m\u001b[43mexecute\u001b[49m\u001b[43m(\u001b[49m\u001b[43mmodel\u001b[49m\u001b[43m)\u001b[49m\n\u001b[0;32m     28\u001b[0m \u001b[38;5;28mprint\u001b[39m(\u001b[38;5;124mf\u001b[39m\u001b[38;5;124m\"\u001b[39m\u001b[38;5;124mexecution done\u001b[39m\u001b[38;5;124m\"\u001b[39m)\n",
      "File \u001b[1;32mc:\\Repositories\\OpenUniversiteit\\dne\\code\\building_blocks.py:350\u001b[0m, in \u001b[0;36mScenario.execute\u001b[1;34m(self, model)\u001b[0m\n\u001b[0;32m    348\u001b[0m \u001b[38;5;28mprint\u001b[39m(\u001b[38;5;124mf\u001b[39m\u001b[38;5;124m\"\u001b[39m\u001b[38;5;124mtraining and validating the model\u001b[39m\u001b[38;5;124m\"\u001b[39m)\n\u001b[0;32m    349\u001b[0m \u001b[38;5;28;01mfor\u001b[39;00m epoch \u001b[38;5;129;01min\u001b[39;00m \u001b[38;5;28mrange\u001b[39m(\u001b[38;5;28mself\u001b[39m\u001b[38;5;241m.\u001b[39mparams\u001b[38;5;241m.\u001b[39mepochs):\n\u001b[1;32m--> 350\u001b[0m     avg_train_loss \u001b[38;5;241m=\u001b[39m \u001b[38;5;28;43mself\u001b[39;49m\u001b[38;5;241;43m.\u001b[39;49m\u001b[43mtrain_one_epoch\u001b[49m\u001b[43m(\u001b[49m\n\u001b[0;32m    351\u001b[0m \u001b[43m        \u001b[49m\u001b[43mmodel\u001b[49m\u001b[43m,\u001b[49m\u001b[43m \u001b[49m\u001b[38;5;28;43mself\u001b[39;49m\u001b[38;5;241;43m.\u001b[39;49m\u001b[43mparams\u001b[49m\u001b[38;5;241;43m.\u001b[39;49m\u001b[43mdataloader_train\u001b[49m\u001b[43m,\u001b[49m\u001b[43m \u001b[49m\u001b[38;5;28;43mself\u001b[39;49m\u001b[38;5;241;43m.\u001b[39;49m\u001b[43mparams\u001b[49m\u001b[38;5;241;43m.\u001b[39;49m\u001b[43mdevice\u001b[49m\u001b[43m,\u001b[49m\u001b[43m \u001b[49m\u001b[43moptimizer\u001b[49m\u001b[43m,\u001b[49m\u001b[43m \u001b[49m\u001b[43mcriterion\u001b[49m\u001b[43m,\u001b[49m\u001b[43m \u001b[49m\u001b[43mscaler\u001b[49m\n\u001b[0;32m    352\u001b[0m \u001b[43m    \u001b[49m\u001b[43m)\u001b[49m\n\u001b[0;32m    353\u001b[0m     train_losses\u001b[38;5;241m.\u001b[39mappend(avg_train_loss)\n\u001b[0;32m    355\u001b[0m     \u001b[38;5;28;01mif\u001b[39;00m avg_train_loss \u001b[38;5;241m<\u001b[39m min_train_loss:\n",
      "File \u001b[1;32mc:\\Repositories\\OpenUniversiteit\\dne\\code\\building_blocks.py:295\u001b[0m, in \u001b[0;36mScenario.train_one_epoch\u001b[1;34m(self, model, train_loader, device, optimizer, criterion, scaler)\u001b[0m\n\u001b[0;32m    293\u001b[0m x_batch, y_batch \u001b[38;5;241m=\u001b[39m batch\n\u001b[0;32m    294\u001b[0m \u001b[38;5;28mprint\u001b[39m(\u001b[38;5;124mf\u001b[39m\u001b[38;5;124m\"\u001b[39m\u001b[38;5;124mxbatch: \u001b[39m\u001b[38;5;132;01m{\u001b[39;00mx_batch\u001b[38;5;132;01m}\u001b[39;00m\u001b[38;5;124m, ybatch: \u001b[39m\u001b[38;5;132;01m{\u001b[39;00my_batch\u001b[38;5;132;01m}\u001b[39;00m\u001b[38;5;124m\"\u001b[39m)\n\u001b[1;32m--> 295\u001b[0m x_batch, y_batch \u001b[38;5;241m=\u001b[39m \u001b[43mx_batch\u001b[49m\u001b[38;5;241;43m.\u001b[39;49m\u001b[43mto\u001b[49m(device), y_batch\u001b[38;5;241m.\u001b[39mto(device)\n\u001b[0;32m    297\u001b[0m \u001b[38;5;28;01mif\u001b[39;00m torch\u001b[38;5;241m.\u001b[39mcuda\u001b[38;5;241m.\u001b[39mis_available():\n\u001b[0;32m    298\u001b[0m     \u001b[38;5;28;01mwith\u001b[39;00m torch\u001b[38;5;241m.\u001b[39mcuda\u001b[38;5;241m.\u001b[39mamp\u001b[38;5;241m.\u001b[39mautocast():\n",
      "\u001b[1;31mAttributeError\u001b[0m: 'str' object has no attribute 'to'"
     ]
    }
   ],
   "source": [
    "# https://stackoverflow.com/questions/65996797/how-to-refresh-a-python-import-in-a-jupyter-notebook-cell\n",
    "from importlib import reload\n",
    "reload(building_blocks)\n",
    "from building_blocks import *\n",
    "\n",
    "model_params = TimeSeriesTransformerParams(\n",
    "    input_dim=cf.model.context_length,\n",
    "    embed_size=cf.model.embedding_size,\n",
    "    num_layers=cf.model.num_layers,\n",
    "    heads=cf.model.num_attention_heads,\n",
    "    device=device,\n",
    "    forward_expansion=cf.model.forward_expansion,\n",
    "    dropout=cf.model.dropout,\n",
    "    forecast_size=cf.model.forecast_size\n",
    ")\n",
    "scenario_params = ScenarioParams(\n",
    "    name=\"electricity\",\n",
    "    device=device,\n",
    "    epochs=100,\n",
    "    dataloader_train=train_loader,\n",
    "    dataloader_validation=validation_loader,\n",
    "    dataloader_test=test_loader,\n",
    "    base_path=\"/dne\" if cf.runtime.run_in_colab else \"./\"\n",
    ")\n",
    "model = TimeSeriesTransformer.from_params(model_params).to(device)\n",
    "scenario = Scenario(scenario_params)\n",
    "result = scenario.execute(model)\n",
    "print(f\"execution done\")"
   ]
  },
  {
   "cell_type": "code",
   "execution_count": null,
   "metadata": {},
   "outputs": [],
   "source": []
  }
 ],
 "metadata": {
  "kernelspec": {
   "display_name": "venv",
   "language": "python",
   "name": "python3"
  },
  "language_info": {
   "codemirror_mode": {
    "name": "ipython",
    "version": 3
   },
   "file_extension": ".py",
   "mimetype": "text/x-python",
   "name": "python",
   "nbconvert_exporter": "python",
   "pygments_lexer": "ipython3",
   "version": "3.10.11"
  }
 },
 "nbformat": 4,
 "nbformat_minor": 2
}
