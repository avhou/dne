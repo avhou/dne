{
 "cells": [
  {
   "cell_type": "code",
   "execution_count": 1,
   "metadata": {},
   "outputs": [],
   "source": [
    "import numpy as np\n",
    "import pandas as pd\n",
    "\n",
    "import torch\n",
    "import torch.nn as nn\n",
    "import torch.optim as optim\n",
    "from torch.utils.data import DataLoader\n",
    "import building_blocks\n",
    "from building_blocks import *\n",
    "\n",
    "from torch.utils.data.sampler import SubsetRandomSampler\n",
    "from torch.optim.lr_scheduler import ReduceLROnPlateau\n",
    "\n",
    "from datasets import EliaSolarDataset\n",
    "from utils import ConfigSettings"
   ]
  },
  {
   "cell_type": "code",
   "execution_count": 2,
   "metadata": {},
   "outputs": [],
   "source": [
    "cf = ConfigSettings(config_path='config.ini')"
   ]
  },
  {
   "cell_type": "code",
   "execution_count": 3,
   "metadata": {},
   "outputs": [],
   "source": [
    "solar_dataset = EliaSolarDataset(\n",
    "        csv_path=cf.data.file_path,\n",
    "        datetime_column='DateTime',\n",
    "        target_column=\"Corrected Upscaled Measurement [MW]\",\n",
    "        context_length=cf.model.context_length,\n",
    "        frequency=cf.data.frequency,\n",
    "        train_test_split_year=cf.data.train_test_split_year,\n",
    "        train_val_split_year=cf.data.train_val_split_year,)"
   ]
  },
  {
   "cell_type": "code",
   "execution_count": 4,
   "metadata": {},
   "outputs": [
    {
     "name": "stdout",
     "output_type": "stream",
     "text": [
      "torch.Size([105769, 13, 120])\n"
     ]
    }
   ],
   "source": [
    "print(solar_dataset.data.shape)"
   ]
  },
  {
   "cell_type": "code",
   "execution_count": 5,
   "metadata": {},
   "outputs": [],
   "source": [
    "df = solar_dataset.get_dataframe(preprocessed=True)"
   ]
  },
  {
   "cell_type": "code",
   "execution_count": 6,
   "metadata": {},
   "outputs": [
    {
     "data": {
      "text/html": [
       "<div>\n",
       "<style scoped>\n",
       "    .dataframe tbody tr th:only-of-type {\n",
       "        vertical-align: middle;\n",
       "    }\n",
       "\n",
       "    .dataframe tbody tr th {\n",
       "        vertical-align: top;\n",
       "    }\n",
       "\n",
       "    .dataframe thead th {\n",
       "        text-align: right;\n",
       "    }\n",
       "</style>\n",
       "<table border=\"1\" class=\"dataframe\">\n",
       "  <thead>\n",
       "    <tr style=\"text-align: right;\">\n",
       "      <th></th>\n",
       "      <th>DateTime</th>\n",
       "      <th>Corrected Upscaled Measurement [MW]</th>\n",
       "      <th>day_of_year</th>\n",
       "      <th>0</th>\n",
       "      <th>1</th>\n",
       "      <th>2</th>\n",
       "      <th>3</th>\n",
       "      <th>4</th>\n",
       "      <th>5</th>\n",
       "      <th>6</th>\n",
       "      <th>7</th>\n",
       "      <th>8</th>\n",
       "      <th>9</th>\n",
       "      <th>10</th>\n",
       "      <th>11</th>\n",
       "    </tr>\n",
       "  </thead>\n",
       "  <tbody>\n",
       "    <tr>\n",
       "      <th>0</th>\n",
       "      <td>2012-02-01 00:00:00</td>\n",
       "      <td>0.0</td>\n",
       "      <td>32</td>\n",
       "      <td>0.351889</td>\n",
       "      <td>0.999517</td>\n",
       "      <td>0.384225</td>\n",
       "      <td>0.019989</td>\n",
       "      <td>0.000141</td>\n",
       "      <td>1.341028e-07</td>\n",
       "      <td>1.729329e-11</td>\n",
       "      <td>3.018061e-16</td>\n",
       "      <td>1.114240e-11</td>\n",
       "      <td>9.434503e-08</td>\n",
       "      <td>0.000108</td>\n",
       "      <td>0.016766</td>\n",
       "    </tr>\n",
       "    <tr>\n",
       "      <th>1</th>\n",
       "      <td>2012-02-01 01:00:00</td>\n",
       "      <td>0.0</td>\n",
       "      <td>32</td>\n",
       "      <td>0.351889</td>\n",
       "      <td>0.999517</td>\n",
       "      <td>0.384225</td>\n",
       "      <td>0.019989</td>\n",
       "      <td>0.000141</td>\n",
       "      <td>1.341028e-07</td>\n",
       "      <td>1.729329e-11</td>\n",
       "      <td>3.018061e-16</td>\n",
       "      <td>1.114240e-11</td>\n",
       "      <td>9.434503e-08</td>\n",
       "      <td>0.000108</td>\n",
       "      <td>0.016766</td>\n",
       "    </tr>\n",
       "    <tr>\n",
       "      <th>2</th>\n",
       "      <td>2012-02-01 02:00:00</td>\n",
       "      <td>0.0</td>\n",
       "      <td>32</td>\n",
       "      <td>0.351889</td>\n",
       "      <td>0.999517</td>\n",
       "      <td>0.384225</td>\n",
       "      <td>0.019989</td>\n",
       "      <td>0.000141</td>\n",
       "      <td>1.341028e-07</td>\n",
       "      <td>1.729329e-11</td>\n",
       "      <td>3.018061e-16</td>\n",
       "      <td>1.114240e-11</td>\n",
       "      <td>9.434503e-08</td>\n",
       "      <td>0.000108</td>\n",
       "      <td>0.016766</td>\n",
       "    </tr>\n",
       "    <tr>\n",
       "      <th>3</th>\n",
       "      <td>2012-02-01 03:00:00</td>\n",
       "      <td>0.0</td>\n",
       "      <td>32</td>\n",
       "      <td>0.351889</td>\n",
       "      <td>0.999517</td>\n",
       "      <td>0.384225</td>\n",
       "      <td>0.019989</td>\n",
       "      <td>0.000141</td>\n",
       "      <td>1.341028e-07</td>\n",
       "      <td>1.729329e-11</td>\n",
       "      <td>3.018061e-16</td>\n",
       "      <td>1.114240e-11</td>\n",
       "      <td>9.434503e-08</td>\n",
       "      <td>0.000108</td>\n",
       "      <td>0.016766</td>\n",
       "    </tr>\n",
       "    <tr>\n",
       "      <th>4</th>\n",
       "      <td>2012-02-01 04:00:00</td>\n",
       "      <td>0.0</td>\n",
       "      <td>32</td>\n",
       "      <td>0.351889</td>\n",
       "      <td>0.999517</td>\n",
       "      <td>0.384225</td>\n",
       "      <td>0.019989</td>\n",
       "      <td>0.000141</td>\n",
       "      <td>1.341028e-07</td>\n",
       "      <td>1.729329e-11</td>\n",
       "      <td>3.018061e-16</td>\n",
       "      <td>1.114240e-11</td>\n",
       "      <td>9.434503e-08</td>\n",
       "      <td>0.000108</td>\n",
       "      <td>0.016766</td>\n",
       "    </tr>\n",
       "  </tbody>\n",
       "</table>\n",
       "</div>"
      ],
      "text/plain": [
       "             DateTime  Corrected Upscaled Measurement [MW]  day_of_year  \\\n",
       "0 2012-02-01 00:00:00                                  0.0           32   \n",
       "1 2012-02-01 01:00:00                                  0.0           32   \n",
       "2 2012-02-01 02:00:00                                  0.0           32   \n",
       "3 2012-02-01 03:00:00                                  0.0           32   \n",
       "4 2012-02-01 04:00:00                                  0.0           32   \n",
       "\n",
       "          0         1         2         3         4             5  \\\n",
       "0  0.351889  0.999517  0.384225  0.019989  0.000141  1.341028e-07   \n",
       "1  0.351889  0.999517  0.384225  0.019989  0.000141  1.341028e-07   \n",
       "2  0.351889  0.999517  0.384225  0.019989  0.000141  1.341028e-07   \n",
       "3  0.351889  0.999517  0.384225  0.019989  0.000141  1.341028e-07   \n",
       "4  0.351889  0.999517  0.384225  0.019989  0.000141  1.341028e-07   \n",
       "\n",
       "              6             7             8             9        10        11  \n",
       "0  1.729329e-11  3.018061e-16  1.114240e-11  9.434503e-08  0.000108  0.016766  \n",
       "1  1.729329e-11  3.018061e-16  1.114240e-11  9.434503e-08  0.000108  0.016766  \n",
       "2  1.729329e-11  3.018061e-16  1.114240e-11  9.434503e-08  0.000108  0.016766  \n",
       "3  1.729329e-11  3.018061e-16  1.114240e-11  9.434503e-08  0.000108  0.016766  \n",
       "4  1.729329e-11  3.018061e-16  1.114240e-11  9.434503e-08  0.000108  0.016766  "
      ]
     },
     "execution_count": 6,
     "metadata": {},
     "output_type": "execute_result"
    }
   ],
   "source": [
    "df.head()"
   ]
  },
  {
   "cell_type": "code",
   "execution_count": 7,
   "metadata": {},
   "outputs": [
    {
     "name": "stdout",
     "output_type": "stream",
     "text": [
      "cpu\n"
     ]
    }
   ],
   "source": [
    "device = \"cuda\" if torch.cuda.is_available() else \"cpu\"\n",
    "print(device)"
   ]
  },
  {
   "cell_type": "code",
   "execution_count": 8,
   "metadata": {},
   "outputs": [
    {
     "data": {
      "text/plain": [
       "78287"
      ]
     },
     "execution_count": 8,
     "metadata": {},
     "output_type": "execute_result"
    }
   ],
   "source": [
    "solar_dataset.train_test_split_index"
   ]
  },
  {
   "cell_type": "code",
   "execution_count": 9,
   "metadata": {},
   "outputs": [],
   "source": [
    "\n",
    "indices = list(range(len(solar_dataset)))\n",
    "train_indices = indices[:solar_dataset.train_val_split_index]\n",
    "val_indices = indices[solar_dataset.train_val_split_index:solar_dataset.train_test_split_index]\n",
    "test_indices = indices[solar_dataset.train_test_split_index:]\n",
    "\n",
    "# Creating data samplers and loaders:\n",
    "train_sampler = SubsetRandomSampler(train_indices)\n",
    "valid_sampler = SubsetRandomSampler(val_indices)\n",
    "test_sampler = SubsetRandomSampler(test_indices)\n",
    "\n",
    "train_loader = torch.utils.data.DataLoader(solar_dataset, batch_size=cf.model.batch_size, \n",
    "                                        sampler=train_sampler)\n",
    "validation_loader = torch.utils.data.DataLoader(solar_dataset, batch_size=cf.model.batch_size,\n",
    "                                                sampler=valid_sampler)\n",
    "test_loader = torch.utils.data.DataLoader(solar_dataset, batch_size=cf.model.batch_size,sampler=test_sampler)"
   ]
  },
  {
   "cell_type": "code",
   "execution_count": 10,
   "metadata": {},
   "outputs": [
    {
     "name": "stderr",
     "output_type": "stream",
     "text": [
      "c:\\Repositories\\OpenUniversiteit\\dne\\code\\venv\\lib\\site-packages\\torch\\optim\\lr_scheduler.py:28: UserWarning: The verbose parameter is deprecated. Please use get_last_lr() to access the learning rate.\n",
      "  warnings.warn(\"The verbose parameter is deprecated. Please use get_last_lr() \"\n"
     ]
    },
    {
     "name": "stdout",
     "output_type": "stream",
     "text": [
      "checking paths, base path is ./\n",
      "batch: {'data': tensor([[[3.0444e-01, 2.8540e-01, 2.8857e-01,  ..., 1.4069e-02,\n",
      "          4.4800e-02, 9.9915e-02],\n",
      "         [7.1526e-07, 7.1526e-07, 7.1526e-07,  ..., 2.4438e-06,\n",
      "          2.4438e-06, 2.4438e-06],\n",
      "         [0.0000e+00, 0.0000e+00, 0.0000e+00,  ..., 0.0000e+00,\n",
      "          0.0000e+00, 0.0000e+00],\n",
      "         ...,\n",
      "         [5.6250e-01, 5.6250e-01, 5.6250e-01,  ..., 7.0312e-01,\n",
      "          7.0312e-01, 7.0312e-01],\n",
      "         [4.5441e-02, 4.5441e-02, 4.5441e-02,  ..., 7.8979e-02,\n",
      "          7.8979e-02, 7.8979e-02],\n",
      "         [4.9639e-04, 4.9639e-04, 4.9639e-04,  ..., 1.1997e-03,\n",
      "          1.1997e-03, 1.1997e-03]],\n",
      "\n",
      "        [[0.0000e+00, 0.0000e+00, 0.0000e+00,  ..., 0.0000e+00,\n",
      "          0.0000e+00, 0.0000e+00],\n",
      "         [1.1921e-06, 1.1921e-06, 1.1921e-06,  ..., 3.9339e-06,\n",
      "          3.9339e-06, 3.9339e-06],\n",
      "         [0.0000e+00, 0.0000e+00, 0.0000e+00,  ..., 0.0000e+00,\n",
      "          0.0000e+00, 0.0000e+00],\n",
      "         ...,\n",
      "         [6.1914e-01, 6.1914e-01, 6.1914e-01,  ..., 7.5732e-01,\n",
      "          7.5732e-01, 7.5732e-01],\n",
      "         [5.7037e-02, 5.7037e-02, 5.7037e-02,  ..., 9.6985e-02,\n",
      "          9.6985e-02, 9.6985e-02],\n",
      "         [7.1144e-04, 7.1144e-04, 7.1144e-04,  ..., 1.6813e-03,\n",
      "          1.6813e-03, 1.6813e-03]],\n",
      "\n",
      "        [[0.0000e+00, 0.0000e+00, 0.0000e+00,  ..., 0.0000e+00,\n",
      "          0.0000e+00, 0.0000e+00],\n",
      "         [9.0637e-02, 9.0637e-02, 9.0637e-02,  ..., 1.4697e-01,\n",
      "          1.4697e-01, 1.4697e-01],\n",
      "         [1.5039e-03, 1.5039e-03, 1.5039e-03,  ..., 3.3913e-03,\n",
      "          3.3913e-03, 3.3913e-03],\n",
      "         ...,\n",
      "         [1.2195e-01, 1.2195e-01, 1.2195e-01,  ..., 7.3547e-02,\n",
      "          7.3547e-02, 7.3547e-02],\n",
      "         [8.1641e-01, 8.1641e-01, 8.1641e-01,  ..., 6.8457e-01,\n",
      "          6.8457e-01, 6.8457e-01],\n",
      "         [7.3926e-01, 7.3926e-01, 7.3926e-01,  ..., 8.6230e-01,\n",
      "          8.6230e-01, 8.6230e-01]],\n",
      "\n",
      "        ...,\n",
      "\n",
      "        [[3.7994e-02, 5.9692e-02, 6.0059e-02,  ..., 0.0000e+00,\n",
      "          2.0206e-05, 9.8114e-03],\n",
      "         [9.9902e-01, 9.9902e-01, 9.9902e-01,  ..., 9.9023e-01,\n",
      "          9.9023e-01, 9.9023e-01],\n",
      "         [3.4399e-01, 3.4399e-01, 3.4399e-01,  ..., 4.4409e-01,\n",
      "          4.4409e-01, 4.4409e-01],\n",
      "         ...,\n",
      "         [1.5020e-04, 1.5020e-04, 1.5020e-04,  ..., 6.7532e-05,\n",
      "          6.7532e-05, 6.7532e-05],\n",
      "         [2.0874e-02, 2.0874e-02, 2.0874e-02,  ..., 1.2215e-02,\n",
      "          1.2215e-02, 1.2215e-02],\n",
      "         [3.9258e-01, 3.9258e-01, 3.9258e-01,  ..., 2.9883e-01,\n",
      "          2.9883e-01, 2.9883e-01]],\n",
      "\n",
      "        [[2.5732e-01, 2.4451e-01, 2.3132e-01,  ..., 6.4636e-02,\n",
      "          1.2097e-01, 1.8164e-01],\n",
      "         [0.0000e+00, 0.0000e+00, 0.0000e+00,  ..., 0.0000e+00,\n",
      "          0.0000e+00, 0.0000e+00],\n",
      "         [0.0000e+00, 0.0000e+00, 0.0000e+00,  ..., 0.0000e+00,\n",
      "          0.0000e+00, 0.0000e+00],\n",
      "         ...,\n",
      "         [1.0028e-01, 1.0028e-01, 1.0028e-01,  ..., 1.6089e-01,\n",
      "          1.6089e-01, 1.6089e-01],\n",
      "         [1.7776e-03, 1.7776e-03, 1.7776e-03,  ..., 3.9635e-03,\n",
      "          3.9635e-03, 3.9635e-03],\n",
      "         [4.2915e-06, 4.2915e-06, 4.2915e-06,  ..., 1.3232e-05,\n",
      "          1.3232e-05, 1.3232e-05]],\n",
      "\n",
      "        [[0.0000e+00, 0.0000e+00, 1.4519e-02,  ..., 0.0000e+00,\n",
      "          0.0000e+00, 0.0000e+00],\n",
      "         [1.3403e-01, 1.3403e-01, 1.3403e-01,  ..., 8.1726e-02,\n",
      "          8.1726e-02, 8.1726e-02],\n",
      "         [8.3984e-01, 8.3984e-01, 8.3984e-01,  ..., 7.1240e-01,\n",
      "          7.1240e-01, 7.1240e-01],\n",
      "         ...,\n",
      "         [0.0000e+00, 0.0000e+00, 0.0000e+00,  ..., 0.0000e+00,\n",
      "          0.0000e+00, 0.0000e+00],\n",
      "         [8.4639e-06, 8.4639e-06, 8.4639e-06,  ..., 2.6822e-06,\n",
      "          2.6822e-06, 2.6822e-06],\n",
      "         [2.8954e-03, 2.8954e-03, 2.8954e-03,  ..., 1.2703e-03,\n",
      "          1.2703e-03, 1.2703e-03]]], dtype=torch.float16), 'label': tensor([4.9639e-04, 7.1144e-04, 7.3926e-01, 4.3530e-01, 1.7881e-07, 0.0000e+00,\n",
      "        5.8889e-05, 4.0942e-01, 1.1384e-05, 1.6037e-02, 1.8091e-01, 9.6664e-03,\n",
      "        4.1723e-07, 0.0000e+00, 1.1810e-01, 3.6359e-06, 4.3701e-02, 7.0984e-02,\n",
      "        8.4766e-01, 3.5763e-07, 0.0000e+00, 5.9605e-08, 2.5757e-01, 6.8457e-01,\n",
      "        5.1320e-05, 6.9008e-03, 2.0962e-03, 9.5264e-01, 0.0000e+00, 0.0000e+00,\n",
      "        0.0000e+00, 1.5039e-03, 0.0000e+00, 2.8091e-02, 0.0000e+00, 3.3913e-03,\n",
      "        0.0000e+00, 2.1399e-01, 3.8862e-05, 4.7684e-07, 0.0000e+00, 1.3831e-01,\n",
      "        8.3771e-03, 1.6037e-02, 0.0000e+00, 5.9605e-08, 0.0000e+00, 8.4829e-04,\n",
      "        6.8457e-01, 0.0000e+00, 4.3945e-03, 0.0000e+00, 7.8979e-02, 4.5896e-06,\n",
      "        0.0000e+00, 0.0000e+00, 4.3530e-01, 2.7299e-05, 2.0862e-06, 1.3113e-06,\n",
      "        4.7863e-05, 3.9258e-01, 4.2915e-06, 2.8954e-03], dtype=torch.float16)}\n",
      "xbatch: data, ybatch: label\n"
     ]
    },
    {
     "ename": "AttributeError",
     "evalue": "'str' object has no attribute 'to'",
     "output_type": "error",
     "traceback": [
      "\u001b[1;31m---------------------------------------------------------------------------\u001b[0m",
      "\u001b[1;31mAttributeError\u001b[0m                            Traceback (most recent call last)",
      "Cell \u001b[1;32mIn[10], line 27\u001b[0m\n\u001b[0;32m     25\u001b[0m model \u001b[38;5;241m=\u001b[39m TimeSeriesTransformer\u001b[38;5;241m.\u001b[39mfrom_params(model_params)\u001b[38;5;241m.\u001b[39mto(device)\n\u001b[0;32m     26\u001b[0m scenario \u001b[38;5;241m=\u001b[39m Scenario(scenario_params)\n\u001b[1;32m---> 27\u001b[0m result \u001b[38;5;241m=\u001b[39m \u001b[43mscenario\u001b[49m\u001b[38;5;241;43m.\u001b[39;49m\u001b[43mexecute\u001b[49m\u001b[43m(\u001b[49m\u001b[43mmodel\u001b[49m\u001b[43m)\u001b[49m\n\u001b[0;32m     28\u001b[0m \u001b[38;5;28mprint\u001b[39m(\u001b[38;5;124mf\u001b[39m\u001b[38;5;124m\"\u001b[39m\u001b[38;5;124mexecution done\u001b[39m\u001b[38;5;124m\"\u001b[39m)\n",
      "File \u001b[1;32mc:\\Repositories\\OpenUniversiteit\\dne\\code\\building_blocks.py:320\u001b[0m, in \u001b[0;36mScenario.execute\u001b[1;34m(self, model)\u001b[0m\n\u001b[0;32m    317\u001b[0m     os\u001b[38;5;241m.\u001b[39mmakedirs(weights_dir, exist_ok\u001b[38;5;241m=\u001b[39m\u001b[38;5;28;01mTrue\u001b[39;00m)\n\u001b[0;32m    319\u001b[0m \u001b[38;5;28;01mfor\u001b[39;00m epoch \u001b[38;5;129;01min\u001b[39;00m \u001b[38;5;28mrange\u001b[39m(\u001b[38;5;28mself\u001b[39m\u001b[38;5;241m.\u001b[39mparams\u001b[38;5;241m.\u001b[39mepochs):\n\u001b[1;32m--> 320\u001b[0m     avg_train_loss \u001b[38;5;241m=\u001b[39m \u001b[38;5;28;43mself\u001b[39;49m\u001b[38;5;241;43m.\u001b[39;49m\u001b[43mtrain_one_epoch\u001b[49m\u001b[43m(\u001b[49m\n\u001b[0;32m    321\u001b[0m \u001b[43m        \u001b[49m\u001b[43mmodel\u001b[49m\u001b[43m,\u001b[49m\u001b[43m \u001b[49m\u001b[38;5;28;43mself\u001b[39;49m\u001b[38;5;241;43m.\u001b[39;49m\u001b[43mparams\u001b[49m\u001b[38;5;241;43m.\u001b[39;49m\u001b[43mdataloader_train\u001b[49m\u001b[43m,\u001b[49m\u001b[43m \u001b[49m\u001b[38;5;28;43mself\u001b[39;49m\u001b[38;5;241;43m.\u001b[39;49m\u001b[43mparams\u001b[49m\u001b[38;5;241;43m.\u001b[39;49m\u001b[43mdevice\u001b[49m\u001b[43m,\u001b[49m\u001b[43m \u001b[49m\u001b[43moptimizer\u001b[49m\u001b[43m,\u001b[49m\u001b[43m \u001b[49m\u001b[43mcriterion\u001b[49m\u001b[43m,\u001b[49m\u001b[43m \u001b[49m\u001b[43mscaler\u001b[49m\n\u001b[0;32m    322\u001b[0m \u001b[43m    \u001b[49m\u001b[43m)\u001b[49m\n\u001b[0;32m    323\u001b[0m     train_losses\u001b[38;5;241m.\u001b[39mappend(avg_train_loss)\n\u001b[0;32m    325\u001b[0m     \u001b[38;5;28;01mif\u001b[39;00m avg_train_loss \u001b[38;5;241m<\u001b[39m min_train_loss:\n",
      "File \u001b[1;32mc:\\Repositories\\OpenUniversiteit\\dne\\code\\building_blocks.py:266\u001b[0m, in \u001b[0;36mScenario.train_one_epoch\u001b[1;34m(self, model, train_loader, device, optimizer, criterion, scaler)\u001b[0m\n\u001b[0;32m    264\u001b[0m x_batch, y_batch \u001b[38;5;241m=\u001b[39m batch\n\u001b[0;32m    265\u001b[0m \u001b[38;5;28mprint\u001b[39m(\u001b[38;5;124mf\u001b[39m\u001b[38;5;124m\"\u001b[39m\u001b[38;5;124mxbatch: \u001b[39m\u001b[38;5;132;01m{\u001b[39;00mx_batch\u001b[38;5;132;01m}\u001b[39;00m\u001b[38;5;124m, ybatch: \u001b[39m\u001b[38;5;132;01m{\u001b[39;00my_batch\u001b[38;5;132;01m}\u001b[39;00m\u001b[38;5;124m\"\u001b[39m)\n\u001b[1;32m--> 266\u001b[0m x_batch, y_batch \u001b[38;5;241m=\u001b[39m \u001b[43mx_batch\u001b[49m\u001b[38;5;241;43m.\u001b[39;49m\u001b[43mto\u001b[49m(device), y_batch\u001b[38;5;241m.\u001b[39mto(device)\n\u001b[0;32m    268\u001b[0m \u001b[38;5;28;01mif\u001b[39;00m torch\u001b[38;5;241m.\u001b[39mcuda\u001b[38;5;241m.\u001b[39mis_available():\n\u001b[0;32m    269\u001b[0m     \u001b[38;5;28;01mwith\u001b[39;00m torch\u001b[38;5;241m.\u001b[39mcuda\u001b[38;5;241m.\u001b[39mamp\u001b[38;5;241m.\u001b[39mautocast():\n",
      "\u001b[1;31mAttributeError\u001b[0m: 'str' object has no attribute 'to'"
     ]
    }
   ],
   "source": [
    "# https://stackoverflow.com/questions/65996797/how-to-refresh-a-python-import-in-a-jupyter-notebook-cell\n",
    "from importlib import reload\n",
    "reload(building_blocks)\n",
    "from building_blocks import *\n",
    "\n",
    "model_params = TimeSeriesTransformerParams(\n",
    "    input_dim=cf.model.context_length,\n",
    "    embed_size=cf.model.embedding_size,\n",
    "    num_layers=cf.model.num_layers,\n",
    "    heads=cf.model.num_attention_heads,\n",
    "    device=device,\n",
    "    forward_expansion=cf.model.forward_expansion,\n",
    "    dropout=cf.model.dropout,\n",
    "    forecast_size=cf.model.forecast_size\n",
    ")\n",
    "scenario_params = ScenarioParams(\n",
    "    name=\"electricity\",\n",
    "    device=device,\n",
    "    epochs=100,\n",
    "    dataloader_train=train_loader,\n",
    "    dataloader_validation=validation_loader,\n",
    "    dataloader_test=test_loader,\n",
    "    base_path=\"/dne\" if cf.runtime.run_in_colab else \"./\"\n",
    ")\n",
    "model = TimeSeriesTransformer.from_params(model_params).to(device)\n",
    "scenario = Scenario(scenario_params)\n",
    "result = scenario.execute(model)\n",
    "print(f\"execution done\")"
   ]
  },
  {
   "cell_type": "code",
   "execution_count": null,
   "metadata": {},
   "outputs": [],
   "source": []
  }
 ],
 "metadata": {
  "kernelspec": {
   "display_name": "venv",
   "language": "python",
   "name": "python3"
  },
  "language_info": {
   "codemirror_mode": {
    "name": "ipython",
    "version": 3
   },
   "file_extension": ".py",
   "mimetype": "text/x-python",
   "name": "python",
   "nbconvert_exporter": "python",
   "pygments_lexer": "ipython3",
   "version": "3.10.11"
  }
 },
 "nbformat": 4,
 "nbformat_minor": 2
}
