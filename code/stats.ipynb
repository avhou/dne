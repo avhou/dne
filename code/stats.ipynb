{
 "cells": [
  {
   "cell_type": "code",
   "execution_count": 10,
   "id": "initial_id",
   "metadata": {
    "collapsed": true,
    "ExecuteTime": {
     "end_time": "2024-03-30T12:05:50.564392Z",
     "start_time": "2024-03-30T12:05:50.517047Z"
    }
   },
   "outputs": [
    {
     "name": "stdout",
     "output_type": "stream",
     "text": [
      "measurements zijn normaal verdeeld : False\n",
      "gefilterde measurements zijn normaal verdeeld : False\n",
      "gefilterde log measurements zijn normaal verdeeld : False\n",
      "gefilterde sqrt measurements zijn normaal verdeeld : False\n",
      "gefilterde square measurements zijn normaal verdeeld : False\n"
     ]
    }
   ],
   "source": [
    "import scipy\n",
    "import pandas as pd\n",
    "import numpy as np\n",
    "\n",
    "MEASUREMENTS = \"Corrected Upscaled Measurement [MW]\"\n",
    "\n",
    "def is_normaal_verdeeld(data: pd.Series):\n",
    "    _, p = scipy.stats.normaltest(data.to_numpy())\n",
    "    return p > 0.05\n",
    "\n",
    "data = pd.read_excel(\"data/SolarForecast_20230901-20230930.xls\", skiprows=3)\n",
    "print(f\"measurements zijn normaal verdeeld : {is_normaal_verdeeld(data[MEASUREMENTS])}\")\n",
    "print(f\"gefilterde measurements zijn normaal verdeeld : {is_normaal_verdeeld(data[data[MEASUREMENTS] > 0.0][MEASUREMENTS])}\")\n",
    "print(f\"gefilterde log measurements zijn normaal verdeeld : {is_normaal_verdeeld(pd.Series(np.log(data[data[MEASUREMENTS] > 0.0][MEASUREMENTS])))}\")\n",
    "print(f\"gefilterde sqrt measurements zijn normaal verdeeld : {is_normaal_verdeeld(pd.Series(np.sqrt(data[data[MEASUREMENTS] > 0.0][MEASUREMENTS])))}\")\n",
    "print(f\"gefilterde square measurements zijn normaal verdeeld : {is_normaal_verdeeld(pd.Series(np.square(data[data[MEASUREMENTS] > 0.0][MEASUREMENTS])))}\")\n",
    "\n"
   ]
  },
  {
   "cell_type": "code",
   "outputs": [
    {
     "name": "stdout",
     "output_type": "stream",
     "text": [
      "could not find test losses ./weights/elia-base-transformer-freqD-layers2-heads4-fe512_test_losses.pkl\n",
      "could not find test losses ./weights/elia-base-transformer-freqD-layers2-heads8-fe512_test_losses.pkl\n",
      "could not find test losses ./weights/elia-base-transformer-freqD-layers4-heads4-fe512_test_losses.pkl\n",
      "could not find test losses ./weights/elia-base-transformer-freqD-layers4-heads8-fe512_test_losses.pkl\n",
      "could not find test losses ./weights/elia-base-transformer-freqD-layers6-heads8-fe512_test_losses.pkl\n",
      "could not find test losses ./weights/elia-base-transformer-freq4h-layers2-heads4-fe256_test_losses.pkl\n",
      "could not find test losses ./weights/elia-base-transformer-freq4h-layers2-heads4-fe512_test_losses.pkl\n",
      "could not find test losses ./weights/elia-base-transformer-freq4h-layers2-heads8-fe256_test_losses.pkl\n",
      "could not find test losses ./weights/elia-base-transformer-freq4h-layers2-heads8-fe512_test_losses.pkl\n",
      "could not find test losses ./weights/elia-base-transformer-freq4h-layers4-heads4-fe256_test_losses.pkl\n",
      "could not find test losses ./weights/elia-base-transformer-freq4h-layers4-heads4-fe512_test_losses.pkl\n",
      "could not find test losses ./weights/elia-base-transformer-freq4h-layers4-heads8-fe256_test_losses.pkl\n",
      "could not find test losses ./weights/elia-base-transformer-freq4h-layers4-heads8-fe512_test_losses.pkl\n",
      "could not find test losses ./weights/elia-base-transformer-freq4h-layers6-heads4-fe256_test_losses.pkl\n",
      "could not find test losses ./weights/elia-base-transformer-freq4h-layers6-heads4-fe512_test_losses.pkl\n",
      "could not find test losses ./weights/elia-base-transformer-freq4h-layers6-heads8-fe256_test_losses.pkl\n",
      "could not find test losses ./weights/elia-base-transformer-freq4h-layers6-heads8-fe512_test_losses.pkl\n",
      "could not find test losses ./weights/elia-base-transformer-freq1h-layers2-heads4-fe256_test_losses.pkl\n",
      "could not find test losses ./weights/elia-base-transformer-freq1h-layers2-heads4-fe512_test_losses.pkl\n",
      "could not find test losses ./weights/elia-base-transformer-freq1h-layers2-heads8-fe256_test_losses.pkl\n",
      "could not find test losses ./weights/elia-base-transformer-freq1h-layers2-heads8-fe512_test_losses.pkl\n",
      "could not find test losses ./weights/elia-base-transformer-freq1h-layers4-heads4-fe256_test_losses.pkl\n",
      "could not find test losses ./weights/elia-base-transformer-freq1h-layers4-heads4-fe512_test_losses.pkl\n",
      "could not find test losses ./weights/elia-base-transformer-freq1h-layers4-heads8-fe256_test_losses.pkl\n",
      "could not find test losses ./weights/elia-base-transformer-freq1h-layers4-heads8-fe512_test_losses.pkl\n",
      "could not find test losses ./weights/elia-base-transformer-freq1h-layers6-heads4-fe256_test_losses.pkl\n",
      "could not find test losses ./weights/elia-base-transformer-freq1h-layers6-heads4-fe512_test_losses.pkl\n",
      "could not find test losses ./weights/elia-base-transformer-freq1h-layers6-heads8-fe256_test_losses.pkl\n",
      "could not find test losses ./weights/elia-base-transformer-freq1h-layers6-heads8-fe512_test_losses.pkl\n",
      "done\n"
     ]
    }
   ],
   "source": [
    "import pandas as pd\n",
    "from typing import *\n",
    "import os\n",
    "import building_blocks\n",
    "from utils import ConfigSettings\n",
    "\n",
    "\n",
    "from importlib import reload\n",
    "reload(building_blocks)\n",
    "from building_blocks import *\n",
    "\n",
    "frequencies = [\"D\", \"4h\", \"1h\"]\n",
    "layers = [2, 4, 6]\n",
    "heads = [4, 8]\n",
    "forward_expansions = [256, 512]\n",
    "\n",
    "with open('table-test-losses.txt', 'w') as f:\n",
    "    f.write(f\"| layers | heads | forward expansion | average | stddev |{os.linesep}\")\n",
    "    f.write(f\"|--:|--:|--:|--:|--:|{os.linesep}\")\n",
    "    for freq, layer, head, forward_expansion in ([(frequency, num_layer, head, forward_expansion) for frequency in frequencies for num_layer in layers for head in heads for forward_expansion in forward_expansions]):\n",
    "        test_losses = f\"./weights/elia-base-transformer-freq{freq}-layers{layer}-heads{head}-fe{forward_expansion}_test_losses.pkl\"\n",
    "        if (not os.path.exists(test_losses)):\n",
    "            print(f\"could not find test losses {test_losses}\")\n",
    "        else:\n",
    "            data = pd.read_pickle(test_losses)\n",
    "            f.write(f\"| {layer} | {head} | {forward_expansion} | {data.mean().iloc[0]:.4f} | {data.std().iloc[0]:.4f} |{os.linesep}\")\n",
    "\n",
    "    f.write(f\"{os.linesep}\")\n",
    "    f.write(f\"Table: Average test losses for base transformer hyperparameter variations \\\\label{{table:avg-test-losses-base-transformer}}\")\n",
    "\n",
    "print(\"done\")\n"
   ],
   "metadata": {
    "collapsed": false,
    "ExecuteTime": {
     "end_time": "2024-04-20T17:12:16.328219Z",
     "start_time": "2024-04-20T17:12:16.246253Z"
    }
   },
   "id": "88bf9d0b33dc1286",
   "execution_count": 6
  },
  {
   "cell_type": "code",
   "outputs": [],
   "source": [],
   "metadata": {
    "collapsed": false
   },
   "id": "49679281b888fadc"
  }
 ],
 "metadata": {
  "kernelspec": {
   "display_name": "Python 3",
   "language": "python",
   "name": "python3"
  },
  "language_info": {
   "codemirror_mode": {
    "name": "ipython",
    "version": 2
   },
   "file_extension": ".py",
   "mimetype": "text/x-python",
   "name": "python",
   "nbconvert_exporter": "python",
   "pygments_lexer": "ipython2",
   "version": "2.7.6"
  }
 },
 "nbformat": 4,
 "nbformat_minor": 5
}
