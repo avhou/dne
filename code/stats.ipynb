{
 "cells": [
  {
   "cell_type": "code",
   "execution_count": 2,
   "id": "initial_id",
   "metadata": {
    "collapsed": true,
    "ExecuteTime": {
     "end_time": "2024-03-30T11:20:39.481176Z",
     "start_time": "2024-03-30T11:20:39.443092Z"
    }
   },
   "outputs": [
    {
     "name": "stdout",
     "output_type": "stream",
     "text": [
      "measurements zijn normaal verdeeld : False\n",
      "gefilterde measurements zijn normaal verdeeld : False\n"
     ]
    }
   ],
   "source": [
    "import scipy\n",
    "import pandas as pd\n",
    "\n",
    "MEASUREMENTS = \"Corrected Upscaled Measurement [MW]\"\n",
    "\n",
    "def is_normaal_verdeeld(data: pd.Series):\n",
    "    _, p = scipy.stats.normaltest(data.to_numpy())\n",
    "    return p > 0.05\n",
    "\n",
    "data = pd.read_excel(\"data/SolarForecast_20230901-20230930.xls\", skiprows=3)\n",
    "print(f\"measurements zijn normaal verdeeld : {is_normaal_verdeeld(data[MEASUREMENTS])}\")\n",
    "print(f\"gefilterde measurements zijn normaal verdeeld : {is_normaal_verdeeld(data[data[MEASUREMENTS] > 0.0][MEASUREMENTS])}\")\n"
   ]
  },
  {
   "cell_type": "code",
   "outputs": [],
   "source": [],
   "metadata": {
    "collapsed": false
   },
   "id": "88bf9d0b33dc1286"
  }
 ],
 "metadata": {
  "kernelspec": {
   "display_name": "Python 3",
   "language": "python",
   "name": "python3"
  },
  "language_info": {
   "codemirror_mode": {
    "name": "ipython",
    "version": 2
   },
   "file_extension": ".py",
   "mimetype": "text/x-python",
   "name": "python",
   "nbconvert_exporter": "python",
   "pygments_lexer": "ipython2",
   "version": "2.7.6"
  }
 },
 "nbformat": 4,
 "nbformat_minor": 5
}
