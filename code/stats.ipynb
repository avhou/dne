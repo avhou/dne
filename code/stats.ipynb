{
 "cells": [
  {
   "cell_type": "code",
   "execution_count": 1,
   "id": "initial_id",
   "metadata": {
    "ExecuteTime": {
     "end_time": "2024-03-30T12:05:50.564392Z",
     "start_time": "2024-03-30T12:05:50.517047Z"
    },
    "collapsed": true
   },
   "outputs": [
    {
     "name": "stderr",
     "output_type": "stream",
     "text": [
      "c:\\Repositories\\OpenUniversiteit\\dne\\code\\datasets.py:90: SettingWithCopyWarning: \n",
      "A value is trying to be set on a copy of a slice from a DataFrame.\n",
      "Try using .loc[row_indexer,col_indexer] = value instead\n",
      "\n",
      "See the caveats in the documentation: https://pandas.pydata.org/pandas-docs/stable/user_guide/indexing.html#returning-a-view-versus-a-copy\n",
      "  df[self.target_column] = self.scaler.fit_transform(df[[self.target_column]]).flatten()\n"
     ]
    }
   ],
   "source": [
    "import numpy as np\n",
    "from datasets import EliaSolarDataset\n",
    "dataset = EliaSolarDataset(\"data/solar_data.csv\", \"DateTime\", \"Corrected Upscaled Measurement [MW]\", context_length=30, frequency=\"15min\", train_test_split_year=2021,train_val_split_year=2020)\n",
    "df = dataset.get_dataframe()"
   ]
  },
  {
   "cell_type": "code",
   "execution_count": 2,
   "id": "9d0773ff",
   "metadata": {},
   "outputs": [
    {
     "data": {
      "text/plain": [
       "<Axes: >"
      ]
     },
     "execution_count": 2,
     "metadata": {},
     "output_type": "execute_result"
    },
    {
     "data": {
      "image/png": "[encoded data removed]",
      "text/plain": [
       "<Figure size 640x480 with 1 Axes>"
      ]
     },
     "metadata": {},
     "output_type": "display_data"
    }
   ],
   "source": [
    "# As you can see the target column is not normally distributed\n",
    "df[\"Corrected Upscaled Measurement [MW]\"].hist(bins=100)"
   ]
  },
  {
   "cell_type": "code",
   "execution_count": 2,
   "id": "88bf9d0b33dc1286",
   "metadata": {
    "ExecuteTime": {
     "end_time": "2024-04-22T06:41:20.625874Z",
     "start_time": "2024-04-22T06:41:20.610685Z"
    },
    "collapsed": false
   },
   "outputs": [
    {
     "name": "stdout",
     "output_type": "stream",
     "text": [
      "could not find validation losses ./weights/elia-base-transformer-freqD-layers2-heads4-fe512_train_val_losses.pkl\n",
      "could not find validation losses ./weights/elia-base-transformer-freqD-layers2-heads8-fe512_train_val_losses.pkl\n",
      "could not find validation losses ./weights/elia-base-transformer-freqD-layers4-heads4-fe512_train_val_losses.pkl\n",
      "could not find validation losses ./weights/elia-base-transformer-freqD-layers4-heads8-fe512_train_val_losses.pkl\n",
      "could not find validation losses ./weights/elia-base-transformer-freq4h-layers2-heads4-fe512_train_val_losses.pkl\n",
      "could not find validation losses ./weights/elia-base-transformer-freq4h-layers2-heads8-fe256_train_val_losses.pkl\n",
      "could not find validation losses ./weights/elia-base-transformer-freq4h-layers2-heads8-fe512_train_val_losses.pkl\n",
      "could not find validation losses ./weights/elia-base-transformer-freq4h-layers4-heads4-fe256_train_val_losses.pkl\n",
      "could not find validation losses ./weights/elia-base-transformer-freq4h-layers4-heads4-fe512_train_val_losses.pkl\n",
      "could not find validation losses ./weights/elia-base-transformer-freq4h-layers4-heads8-fe256_train_val_losses.pkl\n",
      "could not find validation losses ./weights/elia-base-transformer-freq4h-layers4-heads8-fe512_train_val_losses.pkl\n",
      "could not find validation losses ./weights/elia-base-transformer-freq4h-layers6-heads4-fe256_train_val_losses.pkl\n",
      "could not find validation losses ./weights/elia-base-transformer-freq4h-layers6-heads4-fe512_train_val_losses.pkl\n",
      "could not find validation losses ./weights/elia-base-transformer-freq4h-layers6-heads8-fe256_train_val_losses.pkl\n",
      "could not find validation losses ./weights/elia-base-transformer-freq4h-layers6-heads8-fe512_train_val_losses.pkl\n",
      "could not find validation losses ./weights/elia-base-transformer-freq1h-layers2-heads4-fe256_train_val_losses.pkl\n",
      "could not find validation losses ./weights/elia-base-transformer-freq1h-layers2-heads4-fe512_train_val_losses.pkl\n",
      "could not find validation losses ./weights/elia-base-transformer-freq1h-layers2-heads8-fe256_train_val_losses.pkl\n",
      "could not find validation losses ./weights/elia-base-transformer-freq1h-layers2-heads8-fe512_train_val_losses.pkl\n",
      "could not find validation losses ./weights/elia-base-transformer-freq1h-layers4-heads4-fe256_train_val_losses.pkl\n",
      "could not find validation losses ./weights/elia-base-transformer-freq1h-layers4-heads4-fe512_train_val_losses.pkl\n",
      "could not find validation losses ./weights/elia-base-transformer-freq1h-layers4-heads8-fe256_train_val_losses.pkl\n",
      "could not find validation losses ./weights/elia-base-transformer-freq1h-layers4-heads8-fe512_train_val_losses.pkl\n",
      "could not find validation losses ./weights/elia-base-transformer-freq1h-layers6-heads4-fe256_train_val_losses.pkl\n",
      "could not find validation losses ./weights/elia-base-transformer-freq1h-layers6-heads4-fe512_train_val_losses.pkl\n",
      "could not find validation losses ./weights/elia-base-transformer-freq1h-layers6-heads8-fe256_train_val_losses.pkl\n",
      "could not find validation losses ./weights/elia-base-transformer-freq1h-layers6-heads8-fe512_train_val_losses.pkl\n",
      "done\n"
     ]
    }
   ],
   "source": [
    "import pandas as pd\n",
    "from typing import *\n",
    "import os\n",
    "import building_blocks\n",
    "from utils import ConfigSettings\n",
    "\n",
    "\n",
    "from importlib import reload\n",
    "reload(building_blocks)\n",
    "from building_blocks import *\n",
    "\n",
    "frequencies = [\"D\", \"4h\", \"1h\"]\n",
    "layers = [2, 4, 6]\n",
    "heads = [4, 8]\n",
    "forward_expansions = [256, 512]\n",
    "\n",
    "with open('table-validation-losses.txt', 'w') as f:\n",
    "    f.write(f\"| layers | heads | forward expansion | average | stddev |{os.linesep}\")\n",
    "    f.write(f\"|--:|--:|--:|--:|--:|{os.linesep}\")\n",
    "    for freq, layer, head, forward_expansion in ([(frequency, num_layer, head, forward_expansion) for frequency in frequencies for num_layer in layers for head in heads for forward_expansion in forward_expansions]):\n",
    "        validation_losses = f\"./weights/elia-base-transformer-freq{freq}-layers{layer}-heads{head}-fe{forward_expansion}_train_val_losses.pkl\"\n",
    "        if (not os.path.exists(validation_losses)):\n",
    "            print(f\"could not find validation losses {validation_losses}\")\n",
    "        else:\n",
    "            data = pd.read_pickle(validation_losses)\n",
    "            f.write(f\"| {layer} | {head} | {forward_expansion} | {data[\"validation\"].mean():.4f} | {data[\"validation\"].std():.4f} |{os.linesep}\")\n",
    "\n",
    "    f.write(f\"{os.linesep}\")\n",
    "    f.write(f\"Table: Average validation losses for base transformer hyperparameter variations \\\\label{{table:avg-validation-losses-base-transformer}}\")\n",
    "\n",
    "print(\"done\")\n"
   ]
  },
  {
   "cell_type": "code",
   "execution_count": null,
   "id": "49679281b888fadc",
   "metadata": {
    "collapsed": false
   },
   "outputs": [],
   "source": []
  }
 ],
 "metadata": {
  "kernelspec": {
   "display_name": "Python 3",
   "language": "python",
   "name": "python3"
  },
  "language_info": {
   "codemirror_mode": {
    "name": "ipython",
    "version": 3
   },
   "file_extension": ".py",
   "mimetype": "text/x-python",
   "name": "python",
   "nbconvert_exporter": "python",
   "pygments_lexer": "ipython3",
   "version": "3.10.11"
  }
 },
 "nbformat": 4,
 "nbformat_minor": 5
}
